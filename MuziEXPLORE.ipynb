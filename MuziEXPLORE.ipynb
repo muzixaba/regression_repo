{
  "nbformat": 4,
  "nbformat_minor": 0,
  "metadata": {
    "colab": {
      "name": "MuziEXPLORE.ipynb",
      "provenance": [],
      "collapsed_sections": [],
      "authorship_tag": "ABX9TyNKH6Z68Jb0NG854q3/n+hw",
      "include_colab_link": true
    },
    "kernelspec": {
      "name": "python3",
      "display_name": "Python 3"
    }
  },
  "cells": [
    {
      "cell_type": "markdown",
      "metadata": {
        "id": "view-in-github",
        "colab_type": "text"
      },
      "source": [
        "<a href=\"https://colab.research.google.com/github/muzixaba/regression_repo/blob/master/MuziEXPLORE.ipynb\" target=\"_parent\"><img src=\"https://colab.research.google.com/assets/colab-badge.svg\" alt=\"Open In Colab\"/></a>"
      ]
    },
    {
      "cell_type": "code",
      "metadata": {
        "id": "ER-ZB84iT8RV",
        "colab_type": "code",
        "colab": {}
      },
      "source": [
        "# This notebook comes from Muzi@Explore\n",
        "# This is the first commit"
      ],
      "execution_count": 0,
      "outputs": []
    },
    {
      "cell_type": "code",
      "metadata": {
        "id": "WggRv8f5UFXg",
        "colab_type": "code",
        "colab": {}
      },
      "source": [
        "# this is the 2nd commit"
      ],
      "execution_count": 0,
      "outputs": []
    }
  ]
}